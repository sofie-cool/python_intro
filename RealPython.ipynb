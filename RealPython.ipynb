{
 "cells": [
  {
   "cell_type": "code",
   "execution_count": 1,
   "id": "2d656fb5",
   "metadata": {},
   "outputs": [
    {
     "data": {
      "text/plain": [
       "2"
      ]
     },
     "execution_count": 1,
     "metadata": {},
     "output_type": "execute_result"
    }
   ],
   "source": [
    " 1 +1"
   ]
  },
  {
   "cell_type": "code",
   "execution_count": 2,
   "id": "586ecb39",
   "metadata": {},
   "outputs": [
    {
     "name": "stdout",
     "output_type": "stream",
     "text": [
      "Hallo,welt\n"
     ]
    }
   ],
   "source": [
    "print(\"Hallo,welt\")"
   ]
  },
  {
   "cell_type": "code",
   "execution_count": 3,
   "id": "2522c879",
   "metadata": {},
   "outputs": [],
   "source": [
    "greeting = \"Hallo,welt\""
   ]
  },
  {
   "cell_type": "code",
   "execution_count": 4,
   "id": "4cb40382",
   "metadata": {},
   "outputs": [
    {
     "name": "stdout",
     "output_type": "stream",
     "text": [
      "Hallo,welt\n"
     ]
    }
   ],
   "source": [
    "print(greeting)"
   ]
  },
  {
   "cell_type": "code",
   "execution_count": 5,
   "id": "406b30a1",
   "metadata": {},
   "outputs": [
    {
     "data": {
      "text/plain": [
       "'Hallo,welt'"
      ]
     },
     "execution_count": 5,
     "metadata": {},
     "output_type": "execute_result"
    }
   ],
   "source": [
    "greeting"
   ]
  },
  {
   "cell_type": "code",
   "execution_count": 7,
   "id": "a796bae3",
   "metadata": {},
   "outputs": [],
   "source": [
    "greeting = \"Hey,ich bin Sofie\""
   ]
  },
  {
   "cell_type": "code",
   "execution_count": 8,
   "id": "23334aef",
   "metadata": {},
   "outputs": [
    {
     "name": "stdout",
     "output_type": "stream",
     "text": [
      "Hey,ich bin Sofie\n"
     ]
    }
   ],
   "source": [
    "print(greeting)"
   ]
  },
  {
   "cell_type": "code",
   "execution_count": 9,
   "id": "b46c6284",
   "metadata": {},
   "outputs": [
    {
     "data": {
      "text/plain": [
       "'Hey,ich bin Sofie'"
      ]
     },
     "execution_count": 9,
     "metadata": {},
     "output_type": "execute_result"
    }
   ],
   "source": [
    "greeting"
   ]
  },
  {
   "cell_type": "code",
   "execution_count": null,
   "id": "a99ec576",
   "metadata": {},
   "outputs": [],
   "source": []
  }
 ],
 "metadata": {
  "kernelspec": {
   "display_name": "Python 3 (ipykernel)",
   "language": "python",
   "name": "python3"
  },
  "language_info": {
   "codemirror_mode": {
    "name": "ipython",
    "version": 3
   },
   "file_extension": ".py",
   "mimetype": "text/x-python",
   "name": "python",
   "nbconvert_exporter": "python",
   "pygments_lexer": "ipython3",
   "version": "3.11.5"
  }
 },
 "nbformat": 4,
 "nbformat_minor": 5
}
