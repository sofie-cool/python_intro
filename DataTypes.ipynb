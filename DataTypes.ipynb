{
 "cells": [
  {
   "cell_type": "code",
   "execution_count": 16,
   "id": "edbcdeeb",
   "metadata": {},
   "outputs": [],
   "source": [
    "A = () #tuple\n",
    "B = [] #list\n",
    "alle_vogel = {} #dictalle vogel"
   ]
  },
  {
   "cell_type": "code",
   "execution_count": 17,
   "id": "ee2c1e47",
   "metadata": {},
   "outputs": [],
   "source": [
    "Enten = [\"Stockente\",\"Reiherente\",\"Kolbenente\",\"Mandarinente\"]\n",
    "Ganse = [\"Kanadagans\",\"Blassgans\",\"Graugans\",\"Hockerschwans\"]\n",
    "Greifvogel = [\"Mausebussard\",\"Habicht\",\"Turmalke\",\"Greifvogel\"]\n",
    "Eulen = [\"Schleiereule\",\"Steinkauz\",\"Uhu\",\"Waldohreule\"]\n",
    "Spechte = [\"Grunspecht\",\"Bundspecht\",\"Wendehals\",\"schwarzspecht\"]\n",
    "Finken =[\"Buchfink\",\"Steiglitz\",\"kernbeisser\",\"Grunfink\"]\n",
    "Meisen = [\"Kohlmeise\",\"Tannenmeise\",\"Haubenmeise\",\"Blaumeise\"]\n",
    "Drosseln =[\"Amsel\",\"Ringdrossel\",\"Misteldrossel\",\"Wacholderdrossel\"]"
   ]
  },
  {
   "cell_type": "code",
   "execution_count": 18,
   "id": "3cd0c2ba",
   "metadata": {},
   "outputs": [],
   "source": [
    "alle_vogel[\"vogelA\"] = Ganse\n",
    "alle_vogel[\"vogelB\"] = Enten\n",
    "alle_vogel[\"vogelc\"] =Greifvogel\n",
    "alle_vogel[\"vogelD\"] = Eulen\n",
    "alle_vogel[\"vogelE\"] =Spechte\n",
    "alle_vogel[\"vogelF\"]= Finken\n",
    "alle_vogel[\"vogelG\"] = Meisen\n",
    "alle_vogel[\"vogelH\"] = Drosseln"
   ]
  },
  {
   "cell_type": "code",
   "execution_count": 19,
   "id": "5b3aefcf",
   "metadata": {},
   "outputs": [
    {
     "data": {
      "text/plain": [
       "{'vogelA': ['Kanadagans', 'Blassgans', 'Graugans', 'Hockerschwans'],\n",
       " 'vogelB': ['Stockente', 'Reiherente', 'Kolbenente', 'Mandarinente'],\n",
       " 'vogelc': ['Mausebussard', 'Habicht', 'Turmalke', 'Greifvogel'],\n",
       " 'vogelD': ['Schleiereule', 'Steinkauz', 'Uhu', 'Waldohreule'],\n",
       " 'vogelE': ['Grunspecht', 'Bundspecht', 'Wendehals', 'schwarzspecht'],\n",
       " 'vogelF': ['Buchfink', 'Steiglitz', 'kernbeisser', 'Grunfink'],\n",
       " 'vogelG': ['Kohlmeise', 'Tannenmeise', 'Haubenmeise', 'Blaumeise'],\n",
       " 'vogelH': ['Amsel', 'Ringdrossel', 'Misteldrossel', 'Wacholderdrossel']}"
      ]
     },
     "execution_count": 19,
     "metadata": {},
     "output_type": "execute_result"
    }
   ],
   "source": [
    "alle_vogel"
   ]
  },
  {
   "cell_type": "code",
   "execution_count": 20,
   "id": "18cb6222",
   "metadata": {},
   "outputs": [
    {
     "data": {
      "text/plain": [
       "['Kanadagans', 'Blassgans', 'Graugans', 'Hockerschwans']"
      ]
     },
     "execution_count": 20,
     "metadata": {},
     "output_type": "execute_result"
    }
   ],
   "source": [
    "alle_vogel[\"vogelA\"]"
   ]
  },
  {
   "cell_type": "code",
   "execution_count": 21,
   "id": "1c67606d",
   "metadata": {},
   "outputs": [
    {
     "data": {
      "text/plain": [
       "['Stockente', 'Reiherente', 'Kolbenente', 'Mandarinente']"
      ]
     },
     "execution_count": 21,
     "metadata": {},
     "output_type": "execute_result"
    }
   ],
   "source": [
    "alle_vogel[\"vogelB\"]"
   ]
  },
  {
   "cell_type": "code",
   "execution_count": 23,
   "id": "8779e58e",
   "metadata": {
    "scrolled": true
   },
   "outputs": [
    {
     "data": {
      "text/plain": [
       "['Kanadagans', 'Blassgans', 'Graugans', 'Hockerschwans']"
      ]
     },
     "execution_count": 23,
     "metadata": {},
     "output_type": "execute_result"
    }
   ],
   "source": [
    "alle_vogel[\"vogelA\"]"
   ]
  },
  {
   "cell_type": "code",
   "execution_count": 24,
   "id": "9f15fa37",
   "metadata": {},
   "outputs": [
    {
     "data": {
      "text/plain": [
       "dict_keys(['vogelA', 'vogelB', 'vogelc', 'vogelD', 'vogelE', 'vogelF', 'vogelG', 'vogelH'])"
      ]
     },
     "execution_count": 24,
     "metadata": {},
     "output_type": "execute_result"
    }
   ],
   "source": [
    "alle_vogel.keys()"
   ]
  },
  {
   "cell_type": "code",
   "execution_count": 26,
   "id": "238615b1",
   "metadata": {},
   "outputs": [
    {
     "data": {
      "text/plain": [
       "dict_values([['Kanadagans', 'Blassgans', 'Graugans', 'Hockerschwans'], ['Stockente', 'Reiherente', 'Kolbenente', 'Mandarinente'], ['Mausebussard', 'Habicht', 'Turmalke', 'Greifvogel'], ['Schleiereule', 'Steinkauz', 'Uhu', 'Waldohreule'], ['Grunspecht', 'Bundspecht', 'Wendehals', 'schwarzspecht'], ['Buchfink', 'Steiglitz', 'kernbeisser', 'Grunfink'], ['Kohlmeise', 'Tannenmeise', 'Haubenmeise', 'Blaumeise'], ['Amsel', 'Ringdrossel', 'Misteldrossel', 'Wacholderdrossel']])"
      ]
     },
     "execution_count": 26,
     "metadata": {},
     "output_type": "execute_result"
    }
   ],
   "source": [
    "alle_vogel.values()"
   ]
  },
  {
   "cell_type": "code",
   "execution_count": 27,
   "id": "45bd14c7",
   "metadata": {},
   "outputs": [
    {
     "data": {
      "text/plain": [
       "dict_items([('vogelA', ['Kanadagans', 'Blassgans', 'Graugans', 'Hockerschwans']), ('vogelB', ['Stockente', 'Reiherente', 'Kolbenente', 'Mandarinente']), ('vogelc', ['Mausebussard', 'Habicht', 'Turmalke', 'Greifvogel']), ('vogelD', ['Schleiereule', 'Steinkauz', 'Uhu', 'Waldohreule']), ('vogelE', ['Grunspecht', 'Bundspecht', 'Wendehals', 'schwarzspecht']), ('vogelF', ['Buchfink', 'Steiglitz', 'kernbeisser', 'Grunfink']), ('vogelG', ['Kohlmeise', 'Tannenmeise', 'Haubenmeise', 'Blaumeise']), ('vogelH', ['Amsel', 'Ringdrossel', 'Misteldrossel', 'Wacholderdrossel'])])"
      ]
     },
     "execution_count": 27,
     "metadata": {},
     "output_type": "execute_result"
    }
   ],
   "source": [
    "alle_vogel.items()"
   ]
  },
  {
   "cell_type": "code",
   "execution_count": 32,
   "id": "79557ab3",
   "metadata": {},
   "outputs": [
    {
     "name": "stdout",
     "output_type": "stream",
     "text": [
      "vogelA ['Kanadagans', 'Blassgans', 'Graugans', 'Hockerschwans']\n",
      "vogelB ['Stockente', 'Reiherente', 'Kolbenente', 'Mandarinente']\n",
      "vogelc ['Mausebussard', 'Habicht', 'Turmalke', 'Greifvogel']\n",
      "vogelD ['Schleiereule', 'Steinkauz', 'Uhu', 'Waldohreule']\n",
      "vogelE ['Grunspecht', 'Bundspecht', 'Wendehals', 'schwarzspecht']\n",
      "vogelF ['Buchfink', 'Steiglitz', 'kernbeisser', 'Grunfink']\n",
      "vogelG ['Kohlmeise', 'Tannenmeise', 'Haubenmeise', 'Blaumeise']\n",
      "vogelH ['Amsel', 'Ringdrossel', 'Misteldrossel', 'Wacholderdrossel']\n"
     ]
    }
   ],
   "source": [
    "for k, v in alle_vogel.items():\n",
    "    print(k, v)"
   ]
  },
  {
   "cell_type": "code",
   "execution_count": null,
   "id": "a646c277",
   "metadata": {},
   "outputs": [],
   "source": []
  }
 ],
 "metadata": {
  "kernelspec": {
   "display_name": "Python 3 (ipykernel)",
   "language": "python",
   "name": "python3"
  },
  "language_info": {
   "codemirror_mode": {
    "name": "ipython",
    "version": 3
   },
   "file_extension": ".py",
   "mimetype": "text/x-python",
   "name": "python",
   "nbconvert_exporter": "python",
   "pygments_lexer": "ipython3",
   "version": "3.11.5"
  }
 },
 "nbformat": 4,
 "nbformat_minor": 5
}
