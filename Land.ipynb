{
 "cells": [
  {
   "cell_type": "code",
   "execution_count": 1,
   "id": "0c01d1a3",
   "metadata": {},
   "outputs": [],
   "source": [
    "A = () #tuple\n",
    "B = [] #list\n",
    "c = {} #dictalle land"
   ]
  },
  {
   "cell_type": "code",
   "execution_count": 1,
   "id": "99eeb368",
   "metadata": {},
   "outputs": [],
   "source": [
    "Europa =[\"Italien\",\"Deutschland\",\"Paris\",\"Spanien\"]\n",
    "Asien = [\"india\",\"Iran\",\"Nepal\",\"Sri Lanka\"]\n",
    "Amerika =[\"Kanada\",\"Mexiko\",\"Honduras\",\"El Salvador\"]\n",
    "Südamerika =[\"Brasilien\",\"Chile\",\"Venezuela\",\"Chile\"]\n",
    "Australien =[\"Australien\",\"Tasmania\",\"Queensland\",\"South Australia\"]"
   ]
  },
  {
   "cell_type": "code",
   "execution_count": 5,
   "id": "70a17417",
   "metadata": {},
   "outputs": [
    {
     "ename": "NameError",
     "evalue": "name 'c' is not defined",
     "output_type": "error",
     "traceback": [
      "\u001b[1;31m---------------------------------------------------------------------------\u001b[0m",
      "\u001b[1;31mNameError\u001b[0m                                 Traceback (most recent call last)",
      "Cell \u001b[1;32mIn[5], line 1\u001b[0m\n\u001b[1;32m----> 1\u001b[0m c[\u001b[38;5;124m\"\u001b[39m\u001b[38;5;124mLandA\u001b[39m\u001b[38;5;124m\"\u001b[39m] \u001b[38;5;241m=\u001b[39m Europa\n\u001b[0;32m      2\u001b[0m c[\u001b[38;5;124m\"\u001b[39m\u001b[38;5;124mLandB\u001b[39m\u001b[38;5;124m\"\u001b[39m] \u001b[38;5;241m=\u001b[39m Asien\n\u001b[0;32m      3\u001b[0m c[\u001b[38;5;124m\"\u001b[39m\u001b[38;5;124mLandC\u001b[39m\u001b[38;5;124m\"\u001b[39m] \u001b[38;5;241m=\u001b[39m Amerika\n",
      "\u001b[1;31mNameError\u001b[0m: name 'c' is not defined"
     ]
    }
   ],
   "source": [
    "c[\"LandA\"] = Europa\n",
    "c[\"LandB\"] = Asien\n",
    "c[\"LandC\"] = Amerika\n",
    "c[\"LandD\"] = Südamerika\n",
    "c[\"LandE\"] = Australien"
   ]
  },
  {
   "cell_type": "code",
   "execution_count": null,
   "id": "2374549c",
   "metadata": {},
   "outputs": [],
   "source": []
  }
 ],
 "metadata": {
  "kernelspec": {
   "display_name": "Python 3 (ipykernel)",
   "language": "python",
   "name": "python3"
  },
  "language_info": {
   "codemirror_mode": {
    "name": "ipython",
    "version": 3
   },
   "file_extension": ".py",
   "mimetype": "text/x-python",
   "name": "python",
   "nbconvert_exporter": "python",
   "pygments_lexer": "ipython3",
   "version": "3.11.5"
  }
 },
 "nbformat": 4,
 "nbformat_minor": 5
}
