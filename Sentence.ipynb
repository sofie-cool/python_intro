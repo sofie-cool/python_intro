{
 "cells": [
  {
   "cell_type": "code",
   "execution_count": 1,
   "id": "1d4281d4",
   "metadata": {},
   "outputs": [],
   "source": [
    "def count_words(paragraph):\n",
    "    \n",
    " words = paragraph.split()\n",
    " count = len(words)\n",
    " return count   \n",
    "\n"
   ]
  },
  {
   "cell_type": "code",
   "execution_count": 3,
   "id": "1e697763",
   "metadata": {},
   "outputs": [],
   "source": [
    "sommerfieren = \"Ich bin zu meinem Vater gegangen, jeden Tag haben wir Filme geguckt und Pommes gegessen. Manchmal war er sauer und manchmal war er nett. Er hatte sachen fur mir gekauft die ich mach. Das Essen war schon lecker,und ich habe auch Leute angeguckt, es war spannend. Wir haben Mathe und Deutsch gelernt. poo war es warm in Osnabrück. Mein Vater hatte einen Regenschirm, unter dem Regenschirm haben wir gegessen, es war super! Mein Vater hat mich morgens erschreckt.Ich hatte eine neue Frisur gekriegt, die war sehr schön.\"\n"
   ]
  },
  {
   "cell_type": "code",
   "execution_count": 4,
   "id": "a1d30f6d",
   "metadata": {},
   "outputs": [
    {
     "data": {
      "text/plain": [
       "'Ich bin zu meinem Vater gegangen, jeden Tag haben wir Filme geguckt und Pommes gegessen. Manchmal war er sauer und manchmal war er nett. Er hatte sachen fur mir gekauft die ich mach. Das Essen war schon lecker,und ich habe auch Leute angeguckt, es war spannend. Wir haben Mathe und Deutsch gelernt. poo war es warm in Osnabrück. Mein Vater hatte einen Regenschirm, unter dem Regenschirm haben wir gegessen, es war super! Mein Vater hat mich morgens erschreckt.Ich hatte eine neue Frisur gekriegt, die war sehr schön.'"
      ]
     },
     "execution_count": 4,
     "metadata": {},
     "output_type": "execute_result"
    }
   ],
   "source": [
    "sommerfieren"
   ]
  },
  {
   "cell_type": "code",
   "execution_count": 5,
   "id": "86feb8cd",
   "metadata": {},
   "outputs": [
    {
     "name": "stdout",
     "output_type": "stream",
     "text": [
      "87\n"
     ]
    }
   ],
   "source": [
    "count = count_words(sommerfieren)\n",
    "print(count)"
   ]
  },
  {
   "cell_type": "code",
   "execution_count": null,
   "id": "9cf921b4",
   "metadata": {},
   "outputs": [],
   "source": []
  }
 ],
 "metadata": {
  "kernelspec": {
   "display_name": "Python 3 (ipykernel)",
   "language": "python",
   "name": "python3"
  },
  "language_info": {
   "codemirror_mode": {
    "name": "ipython",
    "version": 3
   },
   "file_extension": ".py",
   "mimetype": "text/x-python",
   "name": "python",
   "nbconvert_exporter": "python",
   "pygments_lexer": "ipython3",
   "version": "3.11.5"
  }
 },
 "nbformat": 4,
 "nbformat_minor": 5
}
